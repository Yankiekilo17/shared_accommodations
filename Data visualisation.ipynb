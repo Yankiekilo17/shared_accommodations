{
 "cells": [
  {
   "cell_type": "markdown",
   "metadata": {},
   "source": [
    "### Creating Visual Graphs to see the patterns"
   ]
  },
  {
   "cell_type": "code",
   "execution_count": null,
   "metadata": {},
   "outputs": [],
   "source": [
    "#Using Seaborn to create a graph that will show Average Rent Rate (per Neigborhood)\n",
    "plot = plt.subplots(figsize=(30, 10))\n",
    "sns.barplot(x = rent[\"Region Name\"], y = rent[\"Avg Rent Rate\"], palette=\"rocket\")\n",
    "plt.xticks(rotation=90)\n",
    "plt.title(\"Average Rent Rate (per Neigborhood)\", fontsize=30)\n"
   ]
  },
  {
   "cell_type": "code",
   "execution_count": null,
   "metadata": {},
   "outputs": [],
   "source": [
    "#Importing csv file \n",
    "year_df = pd.read_csv(\"Yearly_Avg.csv\")\n",
    "year_df"
   ]
  },
  {
   "cell_type": "code",
   "execution_count": null,
   "metadata": {},
   "outputs": [],
   "source": [
    "#Creating a graph that will show yearly change in price \n",
    "sns.lineplot(x = year_df[\"Year\"], y = year_df[\"Year Avg ($)\"], \n",
    "             marker ='D', linewidth=2, color = \"purple\")\n",
    "plt.title(\"Rent Price(by Year)\", fontsize=15)\n",
    "plt.show()\n"
   ]
  },
  {
   "cell_type": "markdown",
   "metadata": {},
   "source": [
    "### HeatMap"
   ]
  },
  {
   "cell_type": "code",
   "execution_count": null,
   "metadata": {},
   "outputs": [],
   "source": [
    "#Creating a HeatMap to show Neighborhoods Rent Rates  \n",
    "locations = rent[[\"Lat\", \"Lng\"]]\n",
    "weights = rent[\"Avg Rent Rate\"]\n",
    "fig = gmaps.figure(map_type=\"SATELLITE\")\n",
    "fig.add_layer(gmaps.heatmap_layer(locations, weights=weights, point_radius = 25))\n",
    "fig"
   ]
  },
  {
   "cell_type": "code",
   "execution_count": null,
   "metadata": {},
   "outputs": [],
   "source": []
  }
 ],
 "metadata": {
  "kernelspec": {
   "display_name": "Python 3",
   "language": "python",
   "name": "python3"
  },
  "language_info": {
   "codemirror_mode": {
    "name": "ipython",
    "version": 3
   },
   "file_extension": ".py",
   "mimetype": "text/x-python",
   "name": "python",
   "nbconvert_exporter": "python",
   "pygments_lexer": "ipython3",
   "version": "3.6.5"
  }
 },
 "nbformat": 4,
 "nbformat_minor": 2
}
