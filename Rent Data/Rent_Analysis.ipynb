{
 "cells": [
  {
   "cell_type": "markdown",
   "metadata": {},
   "source": [
    "### Importing Dependencies"
   ]
  },
  {
   "cell_type": "code",
   "execution_count": null,
   "metadata": {},
   "outputs": [],
   "source": [
    "# Dependencies\n",
    "import pandas as pd\n",
    "import numpy as np\n",
    "#import matplotlib.pyplot as plt\n",
    "#import seaborn as sns\n",
    "#import csv\n",
    "#import requests\n",
    "#import json\n",
    "#import gmaps\n",
    "#import gmaps.datasets"
   ]
  },
  {
   "cell_type": "markdown",
   "metadata": {},
   "source": [
    "### Creating Dataframe from the csv file"
   ]
  },
  {
   "cell_type": "code",
   "execution_count": null,
   "metadata": {},
   "outputs": [],
   "source": [
    "#Create a dataframe from the csv file\n",
    "rent_df = pd.read_csv(\"rent_raw.csv\")\n",
    "rent_df.head()"
   ]
  },
  {
   "cell_type": "markdown",
   "metadata": {},
   "source": [
    "### Cleaning Data and Creating new DataFrame"
   ]
  },
  {
   "cell_type": "code",
   "execution_count": null,
   "metadata": {},
   "outputs": [],
   "source": [
    "# Remove the Region Type, Data Type columns\n",
    "rent_df = rent_df.drop([\"Region Type\", \"Data Type\"], axis = 1)"
   ]
  },
  {
   "cell_type": "code",
   "execution_count": null,
   "metadata": {},
   "outputs": [],
   "source": [
    "# Rename the columns\n",
    "rent_df = rent_df.rename(columns = {\"Region Name\": \"Neighborhood\"})\n",
    "rent_df.head()"
   ]
  },
  {
   "cell_type": "code",
   "execution_count": null,
   "metadata": {},
   "outputs": [],
   "source": [
    "# Create a function that returns the sum per row per year\n",
    "\n",
    "def totals(df,str): # where str is the last two digits of the year\n",
    "    year = df.filter(regex = str, axis = 1) # filter the columns based on the str\n",
    "    \n",
    "    return year.sum(axis = 1) # get the sum per row"
   ]
  },
  {
   "cell_type": "code",
   "execution_count": null,
   "metadata": {},
   "outputs": [],
   "source": [
    "# Create a list of years (with data for 12 months)\n",
    "year_list = list(np.arange(11,18)) # creates a list of floats covering the year range of rent_df\n",
    "year_list_str = [str(item) for item in year_list] # converts numbers to string\n",
    "    \n",
    "year_list_str"
   ]
  },
  {
   "cell_type": "code",
   "execution_count": null,
   "metadata": {},
   "outputs": [],
   "source": [
    "# Get a series of neighbourhoods\n",
    "neighborhood = rent_df[\"Neighborhood\"]"
   ]
  },
  {
   "cell_type": "code",
   "execution_count": null,
   "metadata": {},
   "outputs": [],
   "source": [
    "yearly_rate = [] # leads to a list of series\n",
    "\n",
    "for year in year_list_str:\n",
    "    yearly_rate.append(totals(rent_df,year))"
   ]
  },
  {
   "cell_type": "code",
   "execution_count": null,
   "metadata": {},
   "outputs": [],
   "source": [
    "# Create a dictionary\n",
    "year_rent = pd.DataFrame(dict({\"Neighborhood\": neighborhood,\n",
    "                               \"2011\": yearly_rate[0],\n",
    "                               \"2012\": yearly_rate[1],\n",
    "                               \"2013\": yearly_rate[2],\n",
    "                               \"2014\": yearly_rate[3],\n",
    "                               \"2015\": yearly_rate[4],\n",
    "                               \"2016\": yearly_rate[5],\n",
    "                               \"2017\": yearly_rate[6]}))\n",
    "\n",
    "year_rent"
   ]
  },
  {
   "cell_type": "code",
   "execution_count": null,
   "metadata": {},
   "outputs": [],
   "source": [
    "# Save the file as csv file in the Data folder\n",
    "year_rent.to_csv(\"../Data/yearly_rent.csv\", encoding = \"utf-8\")"
   ]
  }
 ],
 "metadata": {
  "kernelspec": {
   "display_name": "Python 3",
   "language": "python",
   "name": "python3"
  },
  "language_info": {
   "codemirror_mode": {
    "name": "ipython",
    "version": 3
   },
   "file_extension": ".py",
   "mimetype": "text/x-python",
   "name": "python",
   "nbconvert_exporter": "python",
   "pygments_lexer": "ipython3",
   "version": "3.6.5"
  }
 },
 "nbformat": 4,
 "nbformat_minor": 2
}
