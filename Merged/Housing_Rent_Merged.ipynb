{
 "cells": [
  {
   "cell_type": "code",
   "execution_count": 1,
   "metadata": {},
   "outputs": [],
   "source": [
    "# Import Dependencies\n",
    "import pandas as pd\n",
    "import matplotlib.pyplot as plt\n",
    "import numpy as np\n",
    "import csv\n",
    "pd.set_option('display.max_rows',50)"
   ]
  },
  {
   "cell_type": "code",
   "execution_count": 2,
   "metadata": {
    "scrolled": true
   },
   "outputs": [],
   "source": [
    "# Create a path to the csv and read it into a Pandas DataFrame\n",
    "#csv_path = \"Assessor_Historical_Secured_Property_Tax_Rolls.csv\"\n",
    "csv_path = \"../Home Prices/combine_updated.csv\"\n",
    "rent_path = \"../Data/yearly_rent.csv\"\n",
    "home_df = pd.read_csv(csv_path, encoding='utf8', engine='python')\n",
    "rent_df = pd.read_csv(rent_path, encoding='utf8', engine='python')"
   ]
  },
  {
   "cell_type": "code",
   "execution_count": 3,
   "metadata": {},
   "outputs": [],
   "source": [
    "#Changing from columns to rows\n",
    "my_col_names = list(rent_df.columns.values)[2:9]\n",
    "melted_df = pd.melt(rent_df,id_vars=[\"Neighborhood\"],\n",
    "                    value_vars=my_col_names, var_name=\"Year\",value_name=\"Yearly Rent Price\")"
   ]
  },
  {
   "cell_type": "code",
   "execution_count": 4,
   "metadata": {},
   "outputs": [
    {
     "data": {
      "text/html": [
       "<div>\n",
       "<style scoped>\n",
       "    .dataframe tbody tr th:only-of-type {\n",
       "        vertical-align: middle;\n",
       "    }\n",
       "\n",
       "    .dataframe tbody tr th {\n",
       "        vertical-align: top;\n",
       "    }\n",
       "\n",
       "    .dataframe thead th {\n",
       "        text-align: right;\n",
       "    }\n",
       "</style>\n",
       "<table border=\"1\" class=\"dataframe\">\n",
       "  <thead>\n",
       "    <tr style=\"text-align: right;\">\n",
       "      <th></th>\n",
       "      <th>Neighborhood</th>\n",
       "      <th>Year</th>\n",
       "      <th>Yearly Rent Price</th>\n",
       "    </tr>\n",
       "  </thead>\n",
       "  <tbody>\n",
       "    <tr>\n",
       "      <th>0</th>\n",
       "      <td>Bayview</td>\n",
       "      <td>2011</td>\n",
       "      <td>30723</td>\n",
       "    </tr>\n",
       "    <tr>\n",
       "      <th>1</th>\n",
       "      <td>Bernal Heights</td>\n",
       "      <td>2011</td>\n",
       "      <td>34471</td>\n",
       "    </tr>\n",
       "    <tr>\n",
       "      <th>2</th>\n",
       "      <td>Buena Vista</td>\n",
       "      <td>2011</td>\n",
       "      <td>42407</td>\n",
       "    </tr>\n",
       "    <tr>\n",
       "      <th>3</th>\n",
       "      <td>Corona Heights</td>\n",
       "      <td>2011</td>\n",
       "      <td>41051</td>\n",
       "    </tr>\n",
       "    <tr>\n",
       "      <th>4</th>\n",
       "      <td>Cow Hollow</td>\n",
       "      <td>2011</td>\n",
       "      <td>52856</td>\n",
       "    </tr>\n",
       "  </tbody>\n",
       "</table>\n",
       "</div>"
      ],
      "text/plain": [
       "     Neighborhood  Year  Yearly Rent Price\n",
       "0         Bayview  2011              30723\n",
       "1  Bernal Heights  2011              34471\n",
       "2     Buena Vista  2011              42407\n",
       "3  Corona Heights  2011              41051\n",
       "4      Cow Hollow  2011              52856"
      ]
     },
     "execution_count": 4,
     "metadata": {},
     "output_type": "execute_result"
    }
   ],
   "source": [
    "melted_df.head()"
   ]
  },
  {
   "cell_type": "code",
   "execution_count": 5,
   "metadata": {},
   "outputs": [],
   "source": [
    "#merging two data frames\n",
    "rent_df2 = pd.merge(melted_df,rent_df.loc[:,[\"Neighborhood\",\"City\",\"Lat\",\"Lng\"]])"
   ]
  },
  {
   "cell_type": "code",
   "execution_count": 6,
   "metadata": {},
   "outputs": [],
   "source": [
    "#rename columns to merge on same names\n",
    "#changing the type of column\n",
    "home_df = home_df.rename(columns={'Assessor Neighborhood': 'Neighborhood', \n",
    "                                  'Closed Roll Year': 'Year'})\n",
    "rent_df2[\"Year\"] = rent_df2[\"Year\"].astype(int)"
   ]
  },
  {
   "cell_type": "code",
   "execution_count": 7,
   "metadata": {},
   "outputs": [],
   "source": [
    "home_df = home_df.drop(['Unnamed: 0'], axis=1)\n",
    "home_df = home_df.drop(['Pct Change'], axis=1)"
   ]
  },
  {
   "cell_type": "code",
   "execution_count": 8,
   "metadata": {},
   "outputs": [],
   "source": [
    "#merging\n",
    "merged_csv = pd.merge(home_df,rent_df2, \n",
    "                  how='inner',\n",
    "                  left_on=[\"Neighborhood\",\"Year\"],\n",
    "                  right_on=[\"Neighborhood\",\"Year\"])"
   ]
  },
  {
   "cell_type": "code",
   "execution_count": 9,
   "metadata": {},
   "outputs": [
    {
     "data": {
      "text/html": [
       "<div>\n",
       "<style scoped>\n",
       "    .dataframe tbody tr th:only-of-type {\n",
       "        vertical-align: middle;\n",
       "    }\n",
       "\n",
       "    .dataframe tbody tr th {\n",
       "        vertical-align: top;\n",
       "    }\n",
       "\n",
       "    .dataframe thead th {\n",
       "        text-align: right;\n",
       "    }\n",
       "</style>\n",
       "<table border=\"1\" class=\"dataframe\">\n",
       "  <thead>\n",
       "    <tr style=\"text-align: right;\">\n",
       "      <th></th>\n",
       "      <th>Neighborhood</th>\n",
       "      <th>Year</th>\n",
       "      <th>Assessed Land Value</th>\n",
       "      <th>Yearly Rent Price</th>\n",
       "      <th>City</th>\n",
       "      <th>Lat</th>\n",
       "      <th>Lng</th>\n",
       "    </tr>\n",
       "  </thead>\n",
       "  <tbody>\n",
       "    <tr>\n",
       "      <th>0</th>\n",
       "      <td>Bayview</td>\n",
       "      <td>2011</td>\n",
       "      <td>175691.806133</td>\n",
       "      <td>30723</td>\n",
       "      <td>San Francisco</td>\n",
       "      <td>37.730416</td>\n",
       "      <td>-122.384424</td>\n",
       "    </tr>\n",
       "    <tr>\n",
       "      <th>1</th>\n",
       "      <td>Bayview</td>\n",
       "      <td>2012</td>\n",
       "      <td>177818.914467</td>\n",
       "      <td>28821</td>\n",
       "      <td>San Francisco</td>\n",
       "      <td>37.730416</td>\n",
       "      <td>-122.384424</td>\n",
       "    </tr>\n",
       "    <tr>\n",
       "      <th>2</th>\n",
       "      <td>Bayview</td>\n",
       "      <td>2013</td>\n",
       "      <td>182203.741400</td>\n",
       "      <td>30433</td>\n",
       "      <td>San Francisco</td>\n",
       "      <td>37.730416</td>\n",
       "      <td>-122.384424</td>\n",
       "    </tr>\n",
       "    <tr>\n",
       "      <th>3</th>\n",
       "      <td>Bayview</td>\n",
       "      <td>2014</td>\n",
       "      <td>185691.451367</td>\n",
       "      <td>35338</td>\n",
       "      <td>San Francisco</td>\n",
       "      <td>37.730416</td>\n",
       "      <td>-122.384424</td>\n",
       "    </tr>\n",
       "    <tr>\n",
       "      <th>4</th>\n",
       "      <td>Bayview</td>\n",
       "      <td>2015</td>\n",
       "      <td>198571.039233</td>\n",
       "      <td>42870</td>\n",
       "      <td>San Francisco</td>\n",
       "      <td>37.730416</td>\n",
       "      <td>-122.384424</td>\n",
       "    </tr>\n",
       "  </tbody>\n",
       "</table>\n",
       "</div>"
      ],
      "text/plain": [
       "  Neighborhood  Year  Assessed Land Value  Yearly Rent Price           City  \\\n",
       "0      Bayview  2011        175691.806133              30723  San Francisco   \n",
       "1      Bayview  2012        177818.914467              28821  San Francisco   \n",
       "2      Bayview  2013        182203.741400              30433  San Francisco   \n",
       "3      Bayview  2014        185691.451367              35338  San Francisco   \n",
       "4      Bayview  2015        198571.039233              42870  San Francisco   \n",
       "\n",
       "         Lat         Lng  \n",
       "0  37.730416 -122.384424  \n",
       "1  37.730416 -122.384424  \n",
       "2  37.730416 -122.384424  \n",
       "3  37.730416 -122.384424  \n",
       "4  37.730416 -122.384424  "
      ]
     },
     "execution_count": 9,
     "metadata": {},
     "output_type": "execute_result"
    }
   ],
   "source": [
    "merged_csv.head()"
   ]
  },
  {
   "cell_type": "code",
   "execution_count": 10,
   "metadata": {},
   "outputs": [],
   "source": [
    "merged_gb = merged_csv.groupby(\"Neighborhood\").mean()"
   ]
  },
  {
   "cell_type": "code",
   "execution_count": 11,
   "metadata": {},
   "outputs": [],
   "source": [
    "merged_gb = merged_gb.drop(['Year'], axis=1)"
   ]
  },
  {
   "cell_type": "code",
   "execution_count": 12,
   "metadata": {},
   "outputs": [
    {
     "data": {
      "text/html": [
       "<div>\n",
       "<style scoped>\n",
       "    .dataframe tbody tr th:only-of-type {\n",
       "        vertical-align: middle;\n",
       "    }\n",
       "\n",
       "    .dataframe tbody tr th {\n",
       "        vertical-align: top;\n",
       "    }\n",
       "\n",
       "    .dataframe thead th {\n",
       "        text-align: right;\n",
       "    }\n",
       "</style>\n",
       "<table border=\"1\" class=\"dataframe\">\n",
       "  <thead>\n",
       "    <tr style=\"text-align: right;\">\n",
       "      <th></th>\n",
       "      <th>Assessed Land Value</th>\n",
       "      <th>Yearly Rent Price</th>\n",
       "      <th>Lat</th>\n",
       "      <th>Lng</th>\n",
       "    </tr>\n",
       "    <tr>\n",
       "      <th>Neighborhood</th>\n",
       "      <th></th>\n",
       "      <th></th>\n",
       "      <th></th>\n",
       "      <th></th>\n",
       "    </tr>\n",
       "  </thead>\n",
       "  <tbody>\n",
       "    <tr>\n",
       "      <th>Bayview</th>\n",
       "      <td>190512.858289</td>\n",
       "      <td>35644.333333</td>\n",
       "      <td>37.730416</td>\n",
       "      <td>-122.384424</td>\n",
       "    </tr>\n",
       "    <tr>\n",
       "      <th>Bernal Heights</th>\n",
       "      <td>268491.454817</td>\n",
       "      <td>43599.666667</td>\n",
       "      <td>37.738950</td>\n",
       "      <td>-122.415201</td>\n",
       "    </tr>\n",
       "    <tr>\n",
       "      <th>Buena Vista</th>\n",
       "      <td>487987.841867</td>\n",
       "      <td>53112.333333</td>\n",
       "      <td>37.806504</td>\n",
       "      <td>-122.420778</td>\n",
       "    </tr>\n",
       "    <tr>\n",
       "      <th>Corona Heights</th>\n",
       "      <td>394108.123417</td>\n",
       "      <td>52034.000000</td>\n",
       "      <td>37.761812</td>\n",
       "      <td>-122.443185</td>\n",
       "    </tr>\n",
       "    <tr>\n",
       "      <th>Cow Hollow</th>\n",
       "      <td>614482.066967</td>\n",
       "      <td>63147.833333</td>\n",
       "      <td>37.798033</td>\n",
       "      <td>-122.439646</td>\n",
       "    </tr>\n",
       "  </tbody>\n",
       "</table>\n",
       "</div>"
      ],
      "text/plain": [
       "                Assessed Land Value  Yearly Rent Price        Lat         Lng\n",
       "Neighborhood                                                                 \n",
       "Bayview               190512.858289       35644.333333  37.730416 -122.384424\n",
       "Bernal Heights        268491.454817       43599.666667  37.738950 -122.415201\n",
       "Buena Vista           487987.841867       53112.333333  37.806504 -122.420778\n",
       "Corona Heights        394108.123417       52034.000000  37.761812 -122.443185\n",
       "Cow Hollow            614482.066967       63147.833333  37.798033 -122.439646"
      ]
     },
     "execution_count": 12,
     "metadata": {},
     "output_type": "execute_result"
    }
   ],
   "source": [
    "merged_gb.head()"
   ]
  },
  {
   "cell_type": "code",
   "execution_count": 13,
   "metadata": {},
   "outputs": [],
   "source": [
    "#combined.to_csv('combine.csv', sep=',', encoding='utf-8')\n",
    "merged_csv.to_csv('../Data/hp_and_rent.csv', sep=',', encoding='utf-8')\n",
    "merged_gb.to_csv('../Data/hp_and_rent_grouped.csv', sep=',', encoding='utf-8')"
   ]
  },
  {
   "cell_type": "code",
   "execution_count": null,
   "metadata": {},
   "outputs": [],
   "source": []
  }
 ],
 "metadata": {
  "kernelspec": {
   "display_name": "Python 3",
   "language": "python",
   "name": "python3"
  },
  "language_info": {
   "codemirror_mode": {
    "name": "ipython",
    "version": 3
   },
   "file_extension": ".py",
   "mimetype": "text/x-python",
   "name": "python",
   "nbconvert_exporter": "python",
   "pygments_lexer": "ipython3",
   "version": "3.6.5"
  }
 },
 "nbformat": 4,
 "nbformat_minor": 2
}
