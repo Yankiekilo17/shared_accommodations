{
 "cells": [
  {
   "cell_type": "markdown",
   "metadata": {},
   "source": [
    "# Airbnb Rate Analysis \n",
    "\n",
    "-Calculate the yearly average annual rate for each neigbourhood for each year, SD for each neigbourhood for each year, get the gragh to see the price trend, maps for the sf (later)"
   ]
  },
  {
   "cell_type": "code",
   "execution_count": 2,
   "metadata": {},
   "outputs": [],
   "source": [
    "# Dependencies\n",
    "import pandas as pd\n",
    "import csv\n",
    "import os"
   ]
  },
  {
   "cell_type": "code",
   "execution_count": 3,
   "metadata": {},
   "outputs": [
    {
     "data": {
      "text/html": [
       "<div>\n",
       "<style scoped>\n",
       "    .dataframe tbody tr th:only-of-type {\n",
       "        vertical-align: middle;\n",
       "    }\n",
       "\n",
       "    .dataframe tbody tr th {\n",
       "        vertical-align: top;\n",
       "    }\n",
       "\n",
       "    .dataframe thead th {\n",
       "        text-align: right;\n",
       "    }\n",
       "</style>\n",
       "<table border=\"1\" class=\"dataframe\">\n",
       "  <thead>\n",
       "    <tr style=\"text-align: right;\">\n",
       "      <th></th>\n",
       "      <th>Unnamed: 0</th>\n",
       "      <th>date</th>\n",
       "      <th>neighbourhood</th>\n",
       "      <th>property type</th>\n",
       "      <th>daily rate</th>\n",
       "      <th>annual rate (USD)</th>\n",
       "    </tr>\n",
       "  </thead>\n",
       "  <tbody>\n",
       "    <tr>\n",
       "      <th>0</th>\n",
       "      <td>0</td>\n",
       "      <td>2016-10</td>\n",
       "      <td>Seacliff</td>\n",
       "      <td>House</td>\n",
       "      <td>$105.00</td>\n",
       "      <td>38325.0</td>\n",
       "    </tr>\n",
       "    <tr>\n",
       "      <th>1</th>\n",
       "      <td>1</td>\n",
       "      <td>2016-10</td>\n",
       "      <td>Seacliff</td>\n",
       "      <td>House</td>\n",
       "      <td>$300.00</td>\n",
       "      <td>109500.0</td>\n",
       "    </tr>\n",
       "    <tr>\n",
       "      <th>2</th>\n",
       "      <td>2</td>\n",
       "      <td>2016-10</td>\n",
       "      <td>Seacliff</td>\n",
       "      <td>Apartment</td>\n",
       "      <td>$175.00</td>\n",
       "      <td>63875.0</td>\n",
       "    </tr>\n",
       "    <tr>\n",
       "      <th>3</th>\n",
       "      <td>3</td>\n",
       "      <td>2016-10</td>\n",
       "      <td>Seacliff</td>\n",
       "      <td>House</td>\n",
       "      <td>$90.00</td>\n",
       "      <td>32850.0</td>\n",
       "    </tr>\n",
       "    <tr>\n",
       "      <th>4</th>\n",
       "      <td>4</td>\n",
       "      <td>2016-10</td>\n",
       "      <td>Seacliff</td>\n",
       "      <td>Condominium</td>\n",
       "      <td>$400.00</td>\n",
       "      <td>146000.0</td>\n",
       "    </tr>\n",
       "  </tbody>\n",
       "</table>\n",
       "</div>"
      ],
      "text/plain": [
       "   Unnamed: 0     date neighbourhood property type daily rate  \\\n",
       "0           0  2016-10      Seacliff         House    $105.00   \n",
       "1           1  2016-10      Seacliff         House    $300.00   \n",
       "2           2  2016-10      Seacliff     Apartment    $175.00   \n",
       "3           3  2016-10      Seacliff         House     $90.00   \n",
       "4           4  2016-10      Seacliff   Condominium    $400.00   \n",
       "\n",
       "   annual rate (USD)  \n",
       "0            38325.0  \n",
       "1           109500.0  \n",
       "2            63875.0  \n",
       "3            32850.0  \n",
       "4           146000.0  "
      ]
     },
     "execution_count": 3,
     "metadata": {},
     "output_type": "execute_result"
    }
   ],
   "source": [
    "#Create a dataframe from the csv file\n",
    "airbnb_df = pd.read_csv(\"./Data/Airbnb_listings.csv\")\n",
    "airbnb_df.head()"
   ]
  },
  {
   "cell_type": "code",
   "execution_count": 4,
   "metadata": {},
   "outputs": [
    {
     "data": {
      "text/plain": [
       "Index(['Unnamed: 0', 'date', 'neighbourhood', 'property type', 'daily rate',\n",
       "       'annual rate (USD)'],\n",
       "      dtype='object')"
      ]
     },
     "execution_count": 4,
     "metadata": {},
     "output_type": "execute_result"
    }
   ],
   "source": [
    "#Clean the data\n",
    "airbnb_df.columns"
   ]
  },
  {
   "cell_type": "code",
   "execution_count": 5,
   "metadata": {},
   "outputs": [
    {
     "data": {
      "text/html": [
       "<div>\n",
       "<style scoped>\n",
       "    .dataframe tbody tr th:only-of-type {\n",
       "        vertical-align: middle;\n",
       "    }\n",
       "\n",
       "    .dataframe tbody tr th {\n",
       "        vertical-align: top;\n",
       "    }\n",
       "\n",
       "    .dataframe thead th {\n",
       "        text-align: right;\n",
       "    }\n",
       "</style>\n",
       "<table border=\"1\" class=\"dataframe\">\n",
       "  <thead>\n",
       "    <tr style=\"text-align: right;\">\n",
       "      <th></th>\n",
       "      <th>date</th>\n",
       "      <th>neighbourhood</th>\n",
       "      <th>property type</th>\n",
       "      <th>daily rate</th>\n",
       "      <th>annual rate (USD)</th>\n",
       "    </tr>\n",
       "  </thead>\n",
       "  <tbody>\n",
       "    <tr>\n",
       "      <th>0</th>\n",
       "      <td>2016-10</td>\n",
       "      <td>Seacliff</td>\n",
       "      <td>House</td>\n",
       "      <td>$105.00</td>\n",
       "      <td>38325.0</td>\n",
       "    </tr>\n",
       "    <tr>\n",
       "      <th>1</th>\n",
       "      <td>2016-10</td>\n",
       "      <td>Seacliff</td>\n",
       "      <td>House</td>\n",
       "      <td>$300.00</td>\n",
       "      <td>109500.0</td>\n",
       "    </tr>\n",
       "    <tr>\n",
       "      <th>2</th>\n",
       "      <td>2016-10</td>\n",
       "      <td>Seacliff</td>\n",
       "      <td>Apartment</td>\n",
       "      <td>$175.00</td>\n",
       "      <td>63875.0</td>\n",
       "    </tr>\n",
       "    <tr>\n",
       "      <th>3</th>\n",
       "      <td>2016-10</td>\n",
       "      <td>Seacliff</td>\n",
       "      <td>House</td>\n",
       "      <td>$90.00</td>\n",
       "      <td>32850.0</td>\n",
       "    </tr>\n",
       "    <tr>\n",
       "      <th>4</th>\n",
       "      <td>2016-10</td>\n",
       "      <td>Seacliff</td>\n",
       "      <td>Condominium</td>\n",
       "      <td>$400.00</td>\n",
       "      <td>146000.0</td>\n",
       "    </tr>\n",
       "  </tbody>\n",
       "</table>\n",
       "</div>"
      ],
      "text/plain": [
       "      date neighbourhood property type daily rate  annual rate (USD)\n",
       "0  2016-10      Seacliff         House    $105.00            38325.0\n",
       "1  2016-10      Seacliff         House    $300.00           109500.0\n",
       "2  2016-10      Seacliff     Apartment    $175.00            63875.0\n",
       "3  2016-10      Seacliff         House     $90.00            32850.0\n",
       "4  2016-10      Seacliff   Condominium    $400.00           146000.0"
      ]
     },
     "execution_count": 5,
     "metadata": {},
     "output_type": "execute_result"
    }
   ],
   "source": [
    "airbnb_rate = airbnb_df.drop(['Unnamed: 0'], axis=1)\n",
    "airbnb_rate.head()"
   ]
  },
  {
   "cell_type": "code",
   "execution_count": 6,
   "metadata": {},
   "outputs": [],
   "source": [
    "data = airbnb_rate"
   ]
  },
  {
   "cell_type": "code",
   "execution_count": 7,
   "metadata": {},
   "outputs": [],
   "source": [
    "#for each in data['date']:\n",
    "  #  return each[:4]"
   ]
  },
  {
   "cell_type": "code",
   "execution_count": 8,
   "metadata": {},
   "outputs": [
    {
     "data": {
      "text/plain": [
       "0    2016\n",
       "1    2016\n",
       "2    2016\n",
       "3    2016\n",
       "4    2016\n",
       "Name: date, dtype: object"
      ]
     },
     "execution_count": 8,
     "metadata": {},
     "output_type": "execute_result"
    }
   ],
   "source": [
    "data['date'] = [each[:4] for each in data['date']]\n",
    "data['date'].head()"
   ]
  },
  {
   "cell_type": "code",
   "execution_count": 9,
   "metadata": {},
   "outputs": [
    {
     "data": {
      "text/html": [
       "<div>\n",
       "<style scoped>\n",
       "    .dataframe tbody tr th:only-of-type {\n",
       "        vertical-align: middle;\n",
       "    }\n",
       "\n",
       "    .dataframe tbody tr th {\n",
       "        vertical-align: top;\n",
       "    }\n",
       "\n",
       "    .dataframe thead th {\n",
       "        text-align: right;\n",
       "    }\n",
       "</style>\n",
       "<table border=\"1\" class=\"dataframe\">\n",
       "  <thead>\n",
       "    <tr style=\"text-align: right;\">\n",
       "      <th></th>\n",
       "      <th>date</th>\n",
       "      <th>neighbourhood</th>\n",
       "      <th>property type</th>\n",
       "      <th>daily rate</th>\n",
       "      <th>annual rate (USD)</th>\n",
       "    </tr>\n",
       "  </thead>\n",
       "  <tbody>\n",
       "    <tr>\n",
       "      <th>24444</th>\n",
       "      <td>2015</td>\n",
       "      <td>Seacliff</td>\n",
       "      <td>Apartment</td>\n",
       "      <td>$350.00</td>\n",
       "      <td>127750.0</td>\n",
       "    </tr>\n",
       "    <tr>\n",
       "      <th>24445</th>\n",
       "      <td>2015</td>\n",
       "      <td>Seacliff</td>\n",
       "      <td>House</td>\n",
       "      <td>$300.00</td>\n",
       "      <td>109500.0</td>\n",
       "    </tr>\n",
       "    <tr>\n",
       "      <th>24446</th>\n",
       "      <td>2015</td>\n",
       "      <td>Seacliff</td>\n",
       "      <td>House</td>\n",
       "      <td>$119.00</td>\n",
       "      <td>43435.0</td>\n",
       "    </tr>\n",
       "    <tr>\n",
       "      <th>24447</th>\n",
       "      <td>2015</td>\n",
       "      <td>Seacliff</td>\n",
       "      <td>Apartment</td>\n",
       "      <td>$79.00</td>\n",
       "      <td>28835.0</td>\n",
       "    </tr>\n",
       "    <tr>\n",
       "      <th>24448</th>\n",
       "      <td>2015</td>\n",
       "      <td>Seacliff</td>\n",
       "      <td>Apartment</td>\n",
       "      <td>$695.00</td>\n",
       "      <td>253675.0</td>\n",
       "    </tr>\n",
       "  </tbody>\n",
       "</table>\n",
       "</div>"
      ],
      "text/plain": [
       "       date neighbourhood property type daily rate  annual rate (USD)\n",
       "24444  2015      Seacliff     Apartment    $350.00           127750.0\n",
       "24445  2015      Seacliff         House    $300.00           109500.0\n",
       "24446  2015      Seacliff         House    $119.00            43435.0\n",
       "24447  2015      Seacliff     Apartment     $79.00            28835.0\n",
       "24448  2015      Seacliff     Apartment    $695.00           253675.0"
      ]
     },
     "execution_count": 9,
     "metadata": {},
     "output_type": "execute_result"
    }
   ],
   "source": [
    "data.head()\n",
    "data_2015 = data[data['date'] == '2015'] \n",
    "data_2015.head()"
   ]
  },
  {
   "cell_type": "code",
   "execution_count": 10,
   "metadata": {},
   "outputs": [
    {
     "data": {
      "text/html": [
       "<div>\n",
       "<style scoped>\n",
       "    .dataframe tbody tr th:only-of-type {\n",
       "        vertical-align: middle;\n",
       "    }\n",
       "\n",
       "    .dataframe tbody tr th {\n",
       "        vertical-align: top;\n",
       "    }\n",
       "\n",
       "    .dataframe thead th {\n",
       "        text-align: right;\n",
       "    }\n",
       "</style>\n",
       "<table border=\"1\" class=\"dataframe\">\n",
       "  <thead>\n",
       "    <tr style=\"text-align: right;\">\n",
       "      <th></th>\n",
       "      <th>date</th>\n",
       "      <th>neighbourhood</th>\n",
       "      <th>property type</th>\n",
       "      <th>daily rate</th>\n",
       "      <th>annual rate (USD)</th>\n",
       "      <th>Annual Average</th>\n",
       "    </tr>\n",
       "  </thead>\n",
       "  <tbody>\n",
       "    <tr>\n",
       "      <th>0</th>\n",
       "      <td>2015</td>\n",
       "      <td>Seacliff</td>\n",
       "      <td>Apartment</td>\n",
       "      <td>$350.00</td>\n",
       "      <td>127750.0</td>\n",
       "      <td>90754.150943</td>\n",
       "    </tr>\n",
       "    <tr>\n",
       "      <th>1</th>\n",
       "      <td>2015</td>\n",
       "      <td>Seacliff</td>\n",
       "      <td>House</td>\n",
       "      <td>$300.00</td>\n",
       "      <td>109500.0</td>\n",
       "      <td>90754.150943</td>\n",
       "    </tr>\n",
       "    <tr>\n",
       "      <th>2</th>\n",
       "      <td>2015</td>\n",
       "      <td>Seacliff</td>\n",
       "      <td>House</td>\n",
       "      <td>$119.00</td>\n",
       "      <td>43435.0</td>\n",
       "      <td>90754.150943</td>\n",
       "    </tr>\n",
       "    <tr>\n",
       "      <th>3</th>\n",
       "      <td>2015</td>\n",
       "      <td>Seacliff</td>\n",
       "      <td>Apartment</td>\n",
       "      <td>$79.00</td>\n",
       "      <td>28835.0</td>\n",
       "      <td>90754.150943</td>\n",
       "    </tr>\n",
       "    <tr>\n",
       "      <th>4</th>\n",
       "      <td>2015</td>\n",
       "      <td>Seacliff</td>\n",
       "      <td>Apartment</td>\n",
       "      <td>$695.00</td>\n",
       "      <td>253675.0</td>\n",
       "      <td>90754.150943</td>\n",
       "    </tr>\n",
       "  </tbody>\n",
       "</table>\n",
       "</div>"
      ],
      "text/plain": [
       "   date neighbourhood property type daily rate  annual rate (USD)  \\\n",
       "0  2015      Seacliff     Apartment    $350.00           127750.0   \n",
       "1  2015      Seacliff         House    $300.00           109500.0   \n",
       "2  2015      Seacliff         House    $119.00            43435.0   \n",
       "3  2015      Seacliff     Apartment     $79.00            28835.0   \n",
       "4  2015      Seacliff     Apartment    $695.00           253675.0   \n",
       "\n",
       "   Annual Average  \n",
       "0    90754.150943  \n",
       "1    90754.150943  \n",
       "2    90754.150943  \n",
       "3    90754.150943  \n",
       "4    90754.150943  "
      ]
     },
     "execution_count": 10,
     "metadata": {},
     "output_type": "execute_result"
    }
   ],
   "source": [
    "data_year_2015 = data[data[\"date\"] == '2015']\n",
    "avg_2015 = data_year_2015.groupby(['neighbourhood'])[\"annual rate (USD)\"].mean()\n",
    "df = pd.DataFrame({\n",
    "    'neighbourhood':avg_2015.index,\n",
    "    'Annual Average':avg_2015.values\n",
    "})\n",
    "\n",
    "merged_2015 = pd.merge(data_2015, df, on=\"neighbourhood\")\n",
    "merged_2015.head()\n",
    "\n"
   ]
  },
  {
   "cell_type": "code",
   "execution_count": 11,
   "metadata": {},
   "outputs": [
    {
     "ename": "AttributeError",
     "evalue": "module 'pandas' has no attribute 'Data'",
     "output_type": "error",
     "traceback": [
      "\u001b[0;31m---------------------------------------------------------------------------\u001b[0m",
      "\u001b[0;31mAttributeError\u001b[0m                            Traceback (most recent call last)",
      "\u001b[0;32m<ipython-input-11-847abeba34a4>\u001b[0m in \u001b[0;36m<module>\u001b[0;34m()\u001b[0m\n\u001b[1;32m      2\u001b[0m \u001b[0mavg_2016\u001b[0m \u001b[0;34m=\u001b[0m \u001b[0mdata_year_2016\u001b[0m\u001b[0;34m.\u001b[0m\u001b[0mgroupby\u001b[0m\u001b[0;34m(\u001b[0m\u001b[0;34m[\u001b[0m\u001b[0;34m'neighbourhood'\u001b[0m\u001b[0;34m]\u001b[0m\u001b[0;34m)\u001b[0m\u001b[0;34m[\u001b[0m\u001b[0;34m\"annual rate (USD)\"\u001b[0m\u001b[0;34m]\u001b[0m\u001b[0;34m.\u001b[0m\u001b[0mmean\u001b[0m\u001b[0;34m(\u001b[0m\u001b[0;34m)\u001b[0m\u001b[0;34m\u001b[0m\u001b[0m\n\u001b[1;32m      3\u001b[0m \u001b[0mavg_2016\u001b[0m\u001b[0;34m.\u001b[0m\u001b[0mhead\u001b[0m\u001b[0;34m(\u001b[0m\u001b[0;34m)\u001b[0m\u001b[0;34m\u001b[0m\u001b[0m\n\u001b[0;32m----> 4\u001b[0;31m \u001b[0mdf\u001b[0m \u001b[0;34m=\u001b[0m \u001b[0mpd\u001b[0m\u001b[0;34m.\u001b[0m\u001b[0mData\u001b[0m\u001b[0;34m\u001b[0m\u001b[0m\n\u001b[0m",
      "\u001b[0;31mAttributeError\u001b[0m: module 'pandas' has no attribute 'Data'"
     ]
    }
   ],
   "source": [
    "data_year_2016 = data[data[\"date\"] == '2016']\n",
    "avg_2016 = data_year_2016.groupby(['neighbourhood'])[\"annual rate (USD)\"].mean()\n",
    "avg_2016.head()\n",
    "df = pd.Data"
   ]
  },
  {
   "cell_type": "code",
   "execution_count": 1,
   "metadata": {},
   "outputs": [
    {
     "ename": "NameError",
     "evalue": "name 'data' is not defined",
     "output_type": "error",
     "traceback": [
      "\u001b[0;31m---------------------------------------------------------------------------\u001b[0m",
      "\u001b[0;31mNameError\u001b[0m                                 Traceback (most recent call last)",
      "\u001b[0;32m<ipython-input-1-8b88c36ea606>\u001b[0m in \u001b[0;36m<module>\u001b[0;34m()\u001b[0m\n\u001b[0;32m----> 1\u001b[0;31m \u001b[0mdata_year_2017\u001b[0m \u001b[0;34m=\u001b[0m \u001b[0mdata\u001b[0m\u001b[0;34m[\u001b[0m\u001b[0mdata\u001b[0m\u001b[0;34m[\u001b[0m\u001b[0;34m\"date\"\u001b[0m\u001b[0;34m]\u001b[0m \u001b[0;34m==\u001b[0m \u001b[0;34m'2017'\u001b[0m\u001b[0;34m]\u001b[0m\u001b[0;34m\u001b[0m\u001b[0m\n\u001b[0m\u001b[1;32m      2\u001b[0m \u001b[0mavg_2017\u001b[0m \u001b[0;34m=\u001b[0m \u001b[0mdata_year_2017\u001b[0m\u001b[0;34m.\u001b[0m\u001b[0mgroupby\u001b[0m\u001b[0;34m(\u001b[0m\u001b[0;34m[\u001b[0m\u001b[0;34m'neighbourhood'\u001b[0m\u001b[0;34m]\u001b[0m\u001b[0;34m)\u001b[0m\u001b[0;34m[\u001b[0m\u001b[0;34m\"annual rate (USD)\"\u001b[0m\u001b[0;34m]\u001b[0m\u001b[0;34m.\u001b[0m\u001b[0mmean\u001b[0m\u001b[0;34m(\u001b[0m\u001b[0;34m)\u001b[0m\u001b[0;34m\u001b[0m\u001b[0m\n\u001b[1;32m      3\u001b[0m \u001b[0mavg_2017\u001b[0m\u001b[0;34m\u001b[0m\u001b[0m\n",
      "\u001b[0;31mNameError\u001b[0m: name 'data' is not defined"
     ]
    }
   ],
   "source": [
    "data_year_2017 = data[data[\"date\"] == '2017']\n",
    "avg_2017 = data_year_2017.groupby(['neighbourhood'])[\"annual rate (USD)\"].mean()\n",
    "avg_2017"
   ]
  },
  {
   "cell_type": "code",
   "execution_count": 74,
   "metadata": {},
   "outputs": [
    {
     "data": {
      "text/html": [
       "<div>\n",
       "<style scoped>\n",
       "    .dataframe tbody tr th:only-of-type {\n",
       "        vertical-align: middle;\n",
       "    }\n",
       "\n",
       "    .dataframe tbody tr th {\n",
       "        vertical-align: top;\n",
       "    }\n",
       "\n",
       "    .dataframe thead th {\n",
       "        text-align: right;\n",
       "    }\n",
       "</style>\n",
       "<table border=\"1\" class=\"dataframe\">\n",
       "  <thead>\n",
       "    <tr style=\"text-align: right;\">\n",
       "      <th></th>\n",
       "      <th>date</th>\n",
       "      <th>neighbourhood</th>\n",
       "      <th>Average Annual Rate</th>\n",
       "    </tr>\n",
       "  </thead>\n",
       "  <tbody>\n",
       "    <tr>\n",
       "      <th>0</th>\n",
       "      <td>2015</td>\n",
       "      <td>Bayview</td>\n",
       "      <td>46374.210526</td>\n",
       "    </tr>\n",
       "    <tr>\n",
       "      <th>1</th>\n",
       "      <td>2016</td>\n",
       "      <td>Bayview</td>\n",
       "      <td>58118.039049</td>\n",
       "    </tr>\n",
       "    <tr>\n",
       "      <th>2</th>\n",
       "      <td>2017</td>\n",
       "      <td>Bayview</td>\n",
       "      <td>45354.454349</td>\n",
       "    </tr>\n",
       "  </tbody>\n",
       "</table>\n",
       "</div>"
      ],
      "text/plain": [
       "   date neighbourhood  Average Annual Rate\n",
       "0  2015       Bayview         46374.210526\n",
       "1  2016       Bayview         58118.039049\n",
       "2  2017       Bayview         45354.454349"
      ]
     },
     "execution_count": 74,
     "metadata": {},
     "output_type": "execute_result"
    }
   ],
   "source": [
    "new_df = pd.DataFrame({\n",
    "    \"date\":['2015', '2016', '2017'],\n",
    "    \"neighbourhood\":[avg_2015.index[0:], avg_2016.index[0], avg_2017.index[0]],\n",
    "    \"Average Annual Rate\":[avg_2015.values[0], avg_2016.values[0], avg_2017.values[0]]\n",
    "})\n",
    "\n",
    "new_df"
   ]
  },
  {
   "cell_type": "code",
   "execution_count": null,
   "metadata": {},
   "outputs": [],
   "source": []
  }
 ],
 "metadata": {
  "kernelspec": {
   "display_name": "Python 3",
   "language": "python",
   "name": "python3"
  },
  "language_info": {
   "codemirror_mode": {
    "name": "ipython",
    "version": 3
   },
   "file_extension": ".py",
   "mimetype": "text/x-python",
   "name": "python",
   "nbconvert_exporter": "python",
   "pygments_lexer": "ipython3",
   "version": "3.6.5"
  }
 },
 "nbformat": 4,
 "nbformat_minor": 2
}
