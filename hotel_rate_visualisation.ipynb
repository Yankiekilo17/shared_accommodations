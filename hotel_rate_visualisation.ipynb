{
 "cells": [
  {
   "cell_type": "markdown",
   "metadata": {},
   "source": [
    "# Visualisation of hotel trends"
   ]
  },
  {
   "cell_type": "code",
   "execution_count": 1,
   "metadata": {},
   "outputs": [],
   "source": [
    "%matplotlib inline"
   ]
  },
  {
   "cell_type": "code",
   "execution_count": 2,
   "metadata": {},
   "outputs": [],
   "source": [
    "# Dependencies\n",
    "import matplotlib.pyplot as plt\n",
    "import pandas as pd\n",
    "import seaborn as sns\n",
    "import numpy as np"
   ]
  },
  {
   "cell_type": "code",
   "execution_count": 3,
   "metadata": {},
   "outputs": [],
   "source": [
    "# graphing style\n",
    "plt.style.use(\"seaborn\")"
   ]
  },
  {
   "cell_type": "code",
   "execution_count": 4,
   "metadata": {},
   "outputs": [
    {
     "data": {
      "text/html": [
       "<div>\n",
       "<style scoped>\n",
       "    .dataframe tbody tr th:only-of-type {\n",
       "        vertical-align: middle;\n",
       "    }\n",
       "\n",
       "    .dataframe tbody tr th {\n",
       "        vertical-align: top;\n",
       "    }\n",
       "\n",
       "    .dataframe thead th {\n",
       "        text-align: right;\n",
       "    }\n",
       "</style>\n",
       "<table border=\"1\" class=\"dataframe\">\n",
       "  <thead>\n",
       "    <tr style=\"text-align: right;\">\n",
       "      <th></th>\n",
       "      <th>Year</th>\n",
       "      <th>Yearly Rate</th>\n",
       "    </tr>\n",
       "  </thead>\n",
       "  <tbody>\n",
       "    <tr>\n",
       "      <th>0</th>\n",
       "      <td>2006</td>\n",
       "      <td>46488.121</td>\n",
       "    </tr>\n",
       "    <tr>\n",
       "      <th>1</th>\n",
       "      <td>2014</td>\n",
       "      <td>79795.282</td>\n",
       "    </tr>\n",
       "    <tr>\n",
       "      <th>2</th>\n",
       "      <td>2011</td>\n",
       "      <td>55845.469</td>\n",
       "    </tr>\n",
       "    <tr>\n",
       "      <th>3</th>\n",
       "      <td>2009</td>\n",
       "      <td>43366.102</td>\n",
       "    </tr>\n",
       "    <tr>\n",
       "      <th>4</th>\n",
       "      <td>2004</td>\n",
       "      <td>19596.943</td>\n",
       "    </tr>\n",
       "  </tbody>\n",
       "</table>\n",
       "</div>"
      ],
      "text/plain": [
       "   Year  Yearly Rate\n",
       "0  2006    46488.121\n",
       "1  2014    79795.282\n",
       "2  2011    55845.469\n",
       "3  2009    43366.102\n",
       "4  2004    19596.943"
      ]
     },
     "execution_count": 4,
     "metadata": {},
     "output_type": "execute_result"
    }
   ],
   "source": [
    "# Load csv file into a dataframe\n",
    "year_df = pd.read_csv(\"Data/hotel_yrrate.csv\")\n",
    "year_df.head()"
   ]
  },
  {
   "cell_type": "code",
   "execution_count": 5,
   "metadata": {},
   "outputs": [],
   "source": [
    "# Sort the dataframe by year\n",
    "year_df.sort_values(\"Year\", inplace = True)\n",
    "year_df = year_df.reset_index(drop = True)"
   ]
  },
  {
   "cell_type": "code",
   "execution_count": 6,
   "metadata": {},
   "outputs": [],
   "source": [
    "# Create a subset of complete years (incomplete: 2004 and 2018)\n",
    "inc = [2004, 2018]\n",
    "\n",
    "year_subdf = year_df[~year_df[\"Year\"].isin(inc)]"
   ]
  },
  {
   "cell_type": "code",
   "execution_count": 7,
   "metadata": {},
   "outputs": [],
   "source": [
    "# Calculate the difference per year\n",
    "values = pd.Series(year_subdf[\"Yearly Rate\"].pct_change() * 100)\n",
    "year_subdf.insert(loc = 2, column = \"% Year Diff\", value = values.values)"
   ]
  },
  {
   "cell_type": "code",
   "execution_count": 19,
   "metadata": {
    "scrolled": true
   },
   "outputs": [
    {
     "data": {
      "image/png": "[encoded data removed]",
      "text/plain": [
       "<Figure size 576x396 with 1 Axes>"
      ]
     },
     "metadata": {},
     "output_type": "display_data"
    }
   ],
   "source": [
    "# Create a bar graph to show trends in hotel yearly rates\n",
    "plt.bar(\"Year\", \"Yearly Rate\", data = year_subdf)\n",
    "plt.xlabel(\"Year\")\n",
    "plt.ylabel(\"Annual Hotel Rate (USD)\")\n",
    "plt.ylim(0, max(year_subdf[\"Yearly Rate\"] + 20000))\n",
    "\n",
    "# Save figure\n",
    "plt.savefig(\"Images/hotel_yr_rates.svg\")\n",
    "plt.show()"
   ]
  },
  {
   "cell_type": "code",
   "execution_count": 18,
   "metadata": {},
   "outputs": [
    {
     "data": {
      "image/png": "[encoded data removed]",
      "text/plain": [
       "<Figure size 576x396 with 1 Axes>"
      ]
     },
     "metadata": {},
     "output_type": "display_data"
    }
   ],
   "source": [
    "year = np.arange(1,len(year_subdf[\"Year\"])+1)\n",
    "diff = year_subdf[\"% Year Diff\"]\n",
    "\n",
    "\n",
    "plt.bar(year, diff, color = [\"green\" if diff[i] > 0 else \"red\" for i in year])\n",
    "plt.xticks(year, year_subdf[\"Year\"])\n",
    "plt.axhline(y = 0, color = \"black\")\n",
    "plt.xlabel(\"Year\")\n",
    "plt.ylabel(\"% Difference\")\n",
    "\n",
    "# add label to each bar\n",
    "count = 1\n",
    "\n",
    "for i in diff:\n",
    "    if i < 0:\n",
    "        y = -2\n",
    "    else:\n",
    "        y = 0.7\n",
    "    plt.text(count, y, str(round(i, 1)) , color = \"white\", ha = \"center\")\n",
    "    count += 1  \n",
    "\n",
    "# Save figure\n",
    "plt.savefig(\"Images/hotel_yr_diff.svg\")\n",
    "plt.show()    "
   ]
  }
 ],
 "metadata": {
  "kernelspec": {
   "display_name": "Python 3",
   "language": "python",
   "name": "python3"
  },
  "language_info": {
   "codemirror_mode": {
    "name": "ipython",
    "version": 3
   },
   "file_extension": ".py",
   "mimetype": "text/x-python",
   "name": "python",
   "nbconvert_exporter": "python",
   "pygments_lexer": "ipython3",
   "version": "3.6.5"
  }
 },
 "nbformat": 4,
 "nbformat_minor": 2
}
