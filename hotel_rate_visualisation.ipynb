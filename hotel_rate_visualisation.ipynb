{
 "cells": [
  {
   "cell_type": "markdown",
   "metadata": {},
   "source": [
    "# Visualisation of hotel trends"
   ]
  },
  {
   "cell_type": "code",
   "execution_count": 1,
   "metadata": {},
   "outputs": [],
   "source": [
    "%matplotlib inline"
   ]
  },
  {
   "cell_type": "code",
   "execution_count": 2,
   "metadata": {},
   "outputs": [],
   "source": [
    "# Dependencies\n",
    "import matplotlib.pyplot as plt\n",
    "import pandas as pd\n",
    "import numpy as np"
   ]
  },
  {
   "cell_type": "code",
   "execution_count": 3,
   "metadata": {},
   "outputs": [],
   "source": [
    "# graphing style\n",
    "plt.style.use(\"seaborn\")"
   ]
  },
  {
   "cell_type": "markdown",
   "metadata": {},
   "source": [
    "## Year Trends"
   ]
  },
  {
   "cell_type": "code",
   "execution_count": 4,
   "metadata": {},
   "outputs": [
    {
     "data": {
      "text/html": [
       "<div>\n",
       "<style scoped>\n",
       "    .dataframe tbody tr th:only-of-type {\n",
       "        vertical-align: middle;\n",
       "    }\n",
       "\n",
       "    .dataframe tbody tr th {\n",
       "        vertical-align: top;\n",
       "    }\n",
       "\n",
       "    .dataframe thead th {\n",
       "        text-align: right;\n",
       "    }\n",
       "</style>\n",
       "<table border=\"1\" class=\"dataframe\">\n",
       "  <thead>\n",
       "    <tr style=\"text-align: right;\">\n",
       "      <th></th>\n",
       "      <th>Year</th>\n",
       "      <th>Yearly Rate</th>\n",
       "    </tr>\n",
       "  </thead>\n",
       "  <tbody>\n",
       "    <tr>\n",
       "      <th>0</th>\n",
       "      <td>2006</td>\n",
       "      <td>46488.121</td>\n",
       "    </tr>\n",
       "    <tr>\n",
       "      <th>1</th>\n",
       "      <td>2014</td>\n",
       "      <td>79795.282</td>\n",
       "    </tr>\n",
       "    <tr>\n",
       "      <th>2</th>\n",
       "      <td>2011</td>\n",
       "      <td>55845.469</td>\n",
       "    </tr>\n",
       "    <tr>\n",
       "      <th>3</th>\n",
       "      <td>2009</td>\n",
       "      <td>43366.102</td>\n",
       "    </tr>\n",
       "    <tr>\n",
       "      <th>4</th>\n",
       "      <td>2004</td>\n",
       "      <td>19596.943</td>\n",
       "    </tr>\n",
       "  </tbody>\n",
       "</table>\n",
       "</div>"
      ],
      "text/plain": [
       "   Year  Yearly Rate\n",
       "0  2006    46488.121\n",
       "1  2014    79795.282\n",
       "2  2011    55845.469\n",
       "3  2009    43366.102\n",
       "4  2004    19596.943"
      ]
     },
     "execution_count": 4,
     "metadata": {},
     "output_type": "execute_result"
    }
   ],
   "source": [
    "# Load csv file into a dataframe\n",
    "year_df = pd.read_csv(\"Data/hotel_yrrate.csv\")\n",
    "year_df.head()"
   ]
  },
  {
   "cell_type": "code",
   "execution_count": 5,
   "metadata": {},
   "outputs": [],
   "source": [
    "# Sort the dataframe by year\n",
    "year_df.sort_values(\"Year\", inplace = True)\n",
    "year_df = year_df.reset_index(drop = True)"
   ]
  },
  {
   "cell_type": "code",
   "execution_count": 6,
   "metadata": {},
   "outputs": [],
   "source": [
    "# Create a subset of complete years (incomplete: 2004 and 2018)\n",
    "inc = [2004, 2018]\n",
    "\n",
    "year_subdf = year_df[~year_df[\"Year\"].isin(inc)]"
   ]
  },
  {
   "cell_type": "code",
   "execution_count": 7,
   "metadata": {},
   "outputs": [],
   "source": [
    "# Calculate the difference per year\n",
    "values = pd.Series(year_subdf[\"Yearly Rate\"].pct_change() * 100)\n",
    "year_subdf.insert(loc = 2, column = \"% Year Diff\", value = values.values)"
   ]
  },
  {
   "cell_type": "code",
   "execution_count": 8,
   "metadata": {
    "scrolled": true
   },
   "outputs": [
    {
     "data": {
      "image/png": "[encoded data removed]",
      "text/plain": [
       "<Figure size 576x396 with 1 Axes>"
      ]
     },
     "metadata": {},
     "output_type": "display_data"
    }
   ],
   "source": [
    "# Create a bar graph to show trends in hotel yearly rates\n",
    "plt.bar(\"Year\", \"Yearly Rate\", data = year_subdf)\n",
    "plt.xlabel(\"Year\")\n",
    "plt.ylabel(\"Annual Hotel Rate (USD)\")\n",
    "plt.ylim(0, max(year_subdf[\"Yearly Rate\"] + 20000))\n",
    "\n",
    "# Save figure\n",
    "plt.savefig(\"Images/hotel_yr_rates.svg\")\n",
    "plt.show()"
   ]
  },
  {
   "cell_type": "code",
   "execution_count": 9,
   "metadata": {
    "scrolled": true
   },
   "outputs": [
    {
     "data": {
      "image/png": "[encoded data removed]",
      "text/plain": [
       "<Figure size 576x396 with 1 Axes>"
      ]
     },
     "metadata": {},
     "output_type": "display_data"
    }
   ],
   "source": [
    "year = np.arange(1,len(year_subdf[\"Year\"])+1)\n",
    "diff = year_subdf[\"% Year Diff\"]\n",
    "\n",
    "\n",
    "plt.bar(year, diff, color = [\"green\" if diff[i] > 0 else \"red\" for i in year])\n",
    "plt.xticks(year, year_subdf[\"Year\"])\n",
    "plt.axhline(y = 0, color = \"black\")\n",
    "plt.xlabel(\"Year\")\n",
    "plt.ylabel(\"% Difference\")\n",
    "\n",
    "# add label to each bar\n",
    "count = 1\n",
    "\n",
    "for i in diff:\n",
    "    if i < 0:\n",
    "        y = -2\n",
    "    else:\n",
    "        y = 0.7\n",
    "    plt.text(count, y, str(round(i, 1)) , color = \"white\", ha = \"center\")\n",
    "    count += 1  \n",
    "\n",
    "# Save figure\n",
    "plt.savefig(\"Images/hotel_yr_diff.svg\")\n",
    "plt.show()    "
   ]
  },
  {
   "cell_type": "markdown",
   "metadata": {},
   "source": [
    "## Monthly Trends\n",
    "- Find trends in monthly rates (Which month is slowest? with highest demand? any changes after peer-to-peer accommodations came up?)"
   ]
  },
  {
   "cell_type": "code",
   "execution_count": 10,
   "metadata": {},
   "outputs": [
    {
     "data": {
      "text/html": [
       "<div>\n",
       "<style scoped>\n",
       "    .dataframe tbody tr th:only-of-type {\n",
       "        vertical-align: middle;\n",
       "    }\n",
       "\n",
       "    .dataframe tbody tr th {\n",
       "        vertical-align: top;\n",
       "    }\n",
       "\n",
       "    .dataframe thead th {\n",
       "        text-align: right;\n",
       "    }\n",
       "</style>\n",
       "<table border=\"1\" class=\"dataframe\">\n",
       "  <thead>\n",
       "    <tr style=\"text-align: right;\">\n",
       "      <th></th>\n",
       "      <th>Average Daily Rate</th>\n",
       "      <th>Hotel Occupancy</th>\n",
       "      <th>Date</th>\n",
       "      <th>Monthly Rate</th>\n",
       "      <th>Corrected Monthly Rate</th>\n",
       "    </tr>\n",
       "  </thead>\n",
       "  <tbody>\n",
       "    <tr>\n",
       "      <th>0</th>\n",
       "      <td>157.8543</td>\n",
       "      <td>0.740657</td>\n",
       "      <td>2005-04</td>\n",
       "      <td>4735.629</td>\n",
       "      <td>3507.477</td>\n",
       "    </tr>\n",
       "    <tr>\n",
       "      <th>1</th>\n",
       "      <td>169.9458</td>\n",
       "      <td>0.770442</td>\n",
       "      <td>2006-04</td>\n",
       "      <td>5098.374</td>\n",
       "      <td>3928.002</td>\n",
       "    </tr>\n",
       "    <tr>\n",
       "      <th>2</th>\n",
       "      <td>183.4274</td>\n",
       "      <td>0.764485</td>\n",
       "      <td>2007-04</td>\n",
       "      <td>5502.822</td>\n",
       "      <td>4206.826</td>\n",
       "    </tr>\n",
       "    <tr>\n",
       "      <th>3</th>\n",
       "      <td>183.7442</td>\n",
       "      <td>0.768456</td>\n",
       "      <td>2008-04</td>\n",
       "      <td>5512.326</td>\n",
       "      <td>4235.983</td>\n",
       "    </tr>\n",
       "    <tr>\n",
       "      <th>4</th>\n",
       "      <td>157.9462</td>\n",
       "      <td>0.743636</td>\n",
       "      <td>2009-04</td>\n",
       "      <td>4738.386</td>\n",
       "      <td>3523.632</td>\n",
       "    </tr>\n",
       "  </tbody>\n",
       "</table>\n",
       "</div>"
      ],
      "text/plain": [
       "   Average Daily Rate  Hotel Occupancy     Date  Monthly Rate  \\\n",
       "0            157.8543         0.740657  2005-04      4735.629   \n",
       "1            169.9458         0.770442  2006-04      5098.374   \n",
       "2            183.4274         0.764485  2007-04      5502.822   \n",
       "3            183.7442         0.768456  2008-04      5512.326   \n",
       "4            157.9462         0.743636  2009-04      4738.386   \n",
       "\n",
       "   Corrected Monthly Rate  \n",
       "0                3507.477  \n",
       "1                3928.002  \n",
       "2                4206.826  \n",
       "3                4235.983  \n",
       "4                3523.632  "
      ]
     },
     "execution_count": 10,
     "metadata": {},
     "output_type": "execute_result"
    }
   ],
   "source": [
    "# Load csv file\n",
    "mon_rate_df = pd.read_csv(\"Data/hotel_monthlyrate.csv\")\n",
    "mon_rate_df.head()"
   ]
  },
  {
   "cell_type": "code",
   "execution_count": 11,
   "metadata": {},
   "outputs": [
    {
     "data": {
      "text/html": [
       "<div>\n",
       "<style scoped>\n",
       "    .dataframe tbody tr th:only-of-type {\n",
       "        vertical-align: middle;\n",
       "    }\n",
       "\n",
       "    .dataframe tbody tr th {\n",
       "        vertical-align: top;\n",
       "    }\n",
       "\n",
       "    .dataframe thead th {\n",
       "        text-align: right;\n",
       "    }\n",
       "</style>\n",
       "<table border=\"1\" class=\"dataframe\">\n",
       "  <thead>\n",
       "    <tr style=\"text-align: right;\">\n",
       "      <th></th>\n",
       "      <th>Average Daily Rate</th>\n",
       "      <th>Hotel Occupancy</th>\n",
       "      <th>Date</th>\n",
       "      <th>Monthly Rate</th>\n",
       "      <th>Corrected Monthly Rate</th>\n",
       "    </tr>\n",
       "  </thead>\n",
       "  <tbody>\n",
       "    <tr>\n",
       "      <th>0</th>\n",
       "      <td>141.6038</td>\n",
       "      <td>0.738484</td>\n",
       "      <td>2004-07</td>\n",
       "      <td>4389.7178</td>\n",
       "      <td>3241.735</td>\n",
       "    </tr>\n",
       "    <tr>\n",
       "      <th>1</th>\n",
       "      <td>143.1187</td>\n",
       "      <td>0.719571</td>\n",
       "      <td>2004-08</td>\n",
       "      <td>4436.6797</td>\n",
       "      <td>3192.504</td>\n",
       "    </tr>\n",
       "    <tr>\n",
       "      <th>2</th>\n",
       "      <td>137.4212</td>\n",
       "      <td>0.750757</td>\n",
       "      <td>2004-09</td>\n",
       "      <td>4122.6360</td>\n",
       "      <td>3095.097</td>\n",
       "    </tr>\n",
       "    <tr>\n",
       "      <th>3</th>\n",
       "      <td>141.5987</td>\n",
       "      <td>0.778466</td>\n",
       "      <td>2004-10</td>\n",
       "      <td>4389.5597</td>\n",
       "      <td>3417.122</td>\n",
       "    </tr>\n",
       "    <tr>\n",
       "      <th>4</th>\n",
       "      <td>148.4632</td>\n",
       "      <td>0.682347</td>\n",
       "      <td>2004-11</td>\n",
       "      <td>4453.8960</td>\n",
       "      <td>3039.104</td>\n",
       "    </tr>\n",
       "  </tbody>\n",
       "</table>\n",
       "</div>"
      ],
      "text/plain": [
       "   Average Daily Rate  Hotel Occupancy     Date  Monthly Rate  \\\n",
       "0            141.6038         0.738484  2004-07     4389.7178   \n",
       "1            143.1187         0.719571  2004-08     4436.6797   \n",
       "2            137.4212         0.750757  2004-09     4122.6360   \n",
       "3            141.5987         0.778466  2004-10     4389.5597   \n",
       "4            148.4632         0.682347  2004-11     4453.8960   \n",
       "\n",
       "   Corrected Monthly Rate  \n",
       "0                3241.735  \n",
       "1                3192.504  \n",
       "2                3095.097  \n",
       "3                3417.122  \n",
       "4                3039.104  "
      ]
     },
     "execution_count": 11,
     "metadata": {},
     "output_type": "execute_result"
    }
   ],
   "source": [
    "# Sort values by date\n",
    "mon_rate_df.sort_values(\"Date\", inplace = True)\n",
    "mon_rate_df = mon_rate_df.reset_index(drop = True)\n",
    "mon_rate_df.head()"
   ]
  },
  {
   "cell_type": "code",
   "execution_count": 12,
   "metadata": {
    "scrolled": false
   },
   "outputs": [
    {
     "data": {
      "text/html": [
       "<div>\n",
       "<style scoped>\n",
       "    .dataframe tbody tr th:only-of-type {\n",
       "        vertical-align: middle;\n",
       "    }\n",
       "\n",
       "    .dataframe tbody tr th {\n",
       "        vertical-align: top;\n",
       "    }\n",
       "\n",
       "    .dataframe thead th {\n",
       "        text-align: right;\n",
       "    }\n",
       "</style>\n",
       "<table border=\"1\" class=\"dataframe\">\n",
       "  <thead>\n",
       "    <tr style=\"text-align: right;\">\n",
       "      <th></th>\n",
       "      <th>Average Daily Rate</th>\n",
       "      <th>Hotel Occupancy</th>\n",
       "      <th>Date</th>\n",
       "      <th>Monthly Rate</th>\n",
       "      <th>Corrected Monthly Rate</th>\n",
       "    </tr>\n",
       "  </thead>\n",
       "  <tbody>\n",
       "    <tr>\n",
       "      <th>6</th>\n",
       "      <td>148.8121</td>\n",
       "      <td>0.729100</td>\n",
       "      <td>2005-01</td>\n",
       "      <td>4613.1751</td>\n",
       "      <td>3363.466</td>\n",
       "    </tr>\n",
       "    <tr>\n",
       "      <th>7</th>\n",
       "      <td>151.1379</td>\n",
       "      <td>0.740805</td>\n",
       "      <td>2005-02</td>\n",
       "      <td>4231.8612</td>\n",
       "      <td>3134.983</td>\n",
       "    </tr>\n",
       "    <tr>\n",
       "      <th>8</th>\n",
       "      <td>153.0208</td>\n",
       "      <td>0.744909</td>\n",
       "      <td>2005-03</td>\n",
       "      <td>4743.6448</td>\n",
       "      <td>3533.582</td>\n",
       "    </tr>\n",
       "    <tr>\n",
       "      <th>9</th>\n",
       "      <td>157.8543</td>\n",
       "      <td>0.740657</td>\n",
       "      <td>2005-04</td>\n",
       "      <td>4735.6290</td>\n",
       "      <td>3507.477</td>\n",
       "    </tr>\n",
       "    <tr>\n",
       "      <th>10</th>\n",
       "      <td>154.0527</td>\n",
       "      <td>0.756545</td>\n",
       "      <td>2005-05</td>\n",
       "      <td>4775.6337</td>\n",
       "      <td>3612.980</td>\n",
       "    </tr>\n",
       "  </tbody>\n",
       "</table>\n",
       "</div>"
      ],
      "text/plain": [
       "    Average Daily Rate  Hotel Occupancy     Date  Monthly Rate  \\\n",
       "6             148.8121         0.729100  2005-01     4613.1751   \n",
       "7             151.1379         0.740805  2005-02     4231.8612   \n",
       "8             153.0208         0.744909  2005-03     4743.6448   \n",
       "9             157.8543         0.740657  2005-04     4735.6290   \n",
       "10            154.0527         0.756545  2005-05     4775.6337   \n",
       "\n",
       "    Corrected Monthly Rate  \n",
       "6                 3363.466  \n",
       "7                 3134.983  \n",
       "8                 3533.582  \n",
       "9                 3507.477  \n",
       "10                3612.980  "
      ]
     },
     "execution_count": 12,
     "metadata": {},
     "output_type": "execute_result"
    }
   ],
   "source": [
    "# Exclude data from 2004 and 2018\n",
    "inc_str = [str(year) for year in inc] # pass the years as string (because the date is in string form)\n",
    "\n",
    "mon_rate_df = mon_rate_df.loc[~mon_rate_df[\"Date\"].str.contains(\"|\".join(inc_str))] # get the data from 2005–2017\n",
    "mon_rate_df.head()"
   ]
  },
  {
   "cell_type": "code",
   "execution_count": 36,
   "metadata": {
    "scrolled": false
   },
   "outputs": [
    {
     "data": {
      "text/html": [
       "<div>\n",
       "<style scoped>\n",
       "    .dataframe tbody tr th:only-of-type {\n",
       "        vertical-align: middle;\n",
       "    }\n",
       "\n",
       "    .dataframe tbody tr th {\n",
       "        vertical-align: top;\n",
       "    }\n",
       "\n",
       "    .dataframe thead th {\n",
       "        text-align: right;\n",
       "    }\n",
       "</style>\n",
       "<table border=\"1\" class=\"dataframe\">\n",
       "  <thead>\n",
       "    <tr style=\"text-align: right;\">\n",
       "      <th></th>\n",
       "      <th>Corrected Monthly Rate</th>\n",
       "    </tr>\n",
       "    <tr>\n",
       "      <th>Date</th>\n",
       "      <th></th>\n",
       "    </tr>\n",
       "  </thead>\n",
       "  <tbody>\n",
       "    <tr>\n",
       "      <th>2005-01</th>\n",
       "      <td>3363.466</td>\n",
       "    </tr>\n",
       "    <tr>\n",
       "      <th>2005-02</th>\n",
       "      <td>3134.983</td>\n",
       "    </tr>\n",
       "    <tr>\n",
       "      <th>2005-03</th>\n",
       "      <td>3533.582</td>\n",
       "    </tr>\n",
       "    <tr>\n",
       "      <th>2005-04</th>\n",
       "      <td>3507.477</td>\n",
       "    </tr>\n",
       "    <tr>\n",
       "      <th>2005-05</th>\n",
       "      <td>3612.980</td>\n",
       "    </tr>\n",
       "  </tbody>\n",
       "</table>\n",
       "</div>"
      ],
      "text/plain": [
       "         Corrected Monthly Rate\n",
       "Date                           \n",
       "2005-01                3363.466\n",
       "2005-02                3134.983\n",
       "2005-03                3533.582\n",
       "2005-04                3507.477\n",
       "2005-05                3612.980"
      ]
     },
     "execution_count": 36,
     "metadata": {},
     "output_type": "execute_result"
    }
   ],
   "source": [
    "# Select Date and Corrected Monthly Rate for plotting\n",
    "mon_rate_df2 = mon_rate_df[[\"Date\", \"Corrected Monthly Rate\"]]\n",
    "mon_rate_df2 = mon_rate_df2.set_index(\"Date\")\n",
    "mon_rate_df2.head()"
   ]
  },
  {
   "cell_type": "code",
   "execution_count": 37,
   "metadata": {
    "scrolled": false
   },
   "outputs": [],
   "source": [
    "# Data is in monthly periods so set period to monthly\n",
    "mon_rate_df2[\"Corrected Monthly Rate\"].index = pd.to_datetime(mon_rate_df2[\"Corrected Monthly Rate\"].index)\n",
    "    # string converted to datetime format\n",
    "    \n",
    "mon_rate_df2.index = mon_rate_df2[\"Corrected Monthly Rate\"].to_period(freq = \"M\").index \n",
    "    # convert time stamps to time periods\n",
    "\n"
   ]
  },
  {
   "cell_type": "code",
   "execution_count": 48,
   "metadata": {},
   "outputs": [
    {
     "data": {
      "image/png": "[encoded data removed]",
      "text/plain": [
       "<Figure size 576x360 with 1 Axes>"
      ]
     },
     "metadata": {},
     "output_type": "display_data"
    }
   ],
   "source": [
    "# Plot time series for corrected monthly rate\n",
    "time_series01 = mon_rate_df2.plot.line(figsize = (8,5), legend = False)\n",
    "time_series01.set_ylabel(\"Corrected Monthly Rate (USD)\")\n",
    "\n",
    "# Save image\n",
    "plt.savefig(\"Images/hotel_timeseries01.svg\")"
   ]
  },
  {
   "cell_type": "code",
   "execution_count": 63,
   "metadata": {},
   "outputs": [
    {
     "data": {
      "text/html": [
       "<div>\n",
       "<style scoped>\n",
       "    .dataframe tbody tr th:only-of-type {\n",
       "        vertical-align: middle;\n",
       "    }\n",
       "\n",
       "    .dataframe tbody tr th {\n",
       "        vertical-align: top;\n",
       "    }\n",
       "\n",
       "    .dataframe thead th {\n",
       "        text-align: right;\n",
       "    }\n",
       "</style>\n",
       "<table border=\"1\" class=\"dataframe\">\n",
       "  <thead>\n",
       "    <tr style=\"text-align: right;\">\n",
       "      <th></th>\n",
       "      <th>Corrected Monthly Rate</th>\n",
       "    </tr>\n",
       "    <tr>\n",
       "      <th>Date</th>\n",
       "      <th></th>\n",
       "    </tr>\n",
       "  </thead>\n",
       "  <tbody>\n",
       "    <tr>\n",
       "      <th>2005Q1</th>\n",
       "      <td>3249.224500</td>\n",
       "    </tr>\n",
       "    <tr>\n",
       "      <th>2005Q2</th>\n",
       "      <td>3551.346333</td>\n",
       "    </tr>\n",
       "    <tr>\n",
       "      <th>2005Q3</th>\n",
       "      <td>3529.392333</td>\n",
       "    </tr>\n",
       "    <tr>\n",
       "      <th>2005Q4</th>\n",
       "      <td>3669.394333</td>\n",
       "    </tr>\n",
       "    <tr>\n",
       "      <th>2006Q1</th>\n",
       "      <td>3599.857000</td>\n",
       "    </tr>\n",
       "  </tbody>\n",
       "</table>\n",
       "</div>"
      ],
      "text/plain": [
       "        Corrected Monthly Rate\n",
       "Date                          \n",
       "2005Q1             3249.224500\n",
       "2005Q2             3551.346333\n",
       "2005Q3             3529.392333\n",
       "2005Q4             3669.394333\n",
       "2006Q1             3599.857000"
      ]
     },
     "execution_count": 63,
     "metadata": {},
     "output_type": "execute_result"
    }
   ],
   "source": [
    "# Get quarterly data\n",
    "# start the quarter from November so that the data from Q1-Q3 of 2015 are included\n",
    "\n",
    "q_mean = mon_rate_df2.resample(\"Q-NOV\").mean() \n",
    "q_mean.head()"
   ]
  },
  {
   "cell_type": "code",
   "execution_count": 67,
   "metadata": {},
   "outputs": [
    {
     "data": {
      "text/plain": [
       "Text(0,0.5,'Quarterly Means (USD)')"
      ]
     },
     "execution_count": 67,
     "metadata": {},
     "output_type": "execute_result"
    },
    {
     "data": {
      "image/png": "[encoded data removed]",
      "text/plain": [
       "<Figure size 576x360 with 1 Axes>"
      ]
     },
     "metadata": {},
     "output_type": "display_data"
    }
   ],
   "source": [
    "# Plot data by quarter\n",
    "time_series02 = q_mean[q_mean.index.quarter == 1].plot(figsize = (8,5), legend = False)\n",
    "time_series02.set_ylabel(\"Quarterly Means (USD)\")"
   ]
  }
 ],
 "metadata": {
  "kernelspec": {
   "display_name": "Python 3",
   "language": "python",
   "name": "python3"
  },
  "language_info": {
   "codemirror_mode": {
    "name": "ipython",
    "version": 3
   },
   "file_extension": ".py",
   "mimetype": "text/x-python",
   "name": "python",
   "nbconvert_exporter": "python",
   "pygments_lexer": "ipython3",
   "version": "3.6.5"
  }
 },
 "nbformat": 4,
 "nbformat_minor": 2
}
